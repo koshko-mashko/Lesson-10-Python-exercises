{
 "cells": [
  {
   "cell_type": "markdown",
   "metadata": {},
   "source": [
    "Calculator via IF-clause"
   ]
  },
  {
   "cell_type": "code",
   "execution_count": 14,
   "metadata": {},
   "outputs": [
    {
     "name": "stdout",
     "output_type": "stream",
     "text": [
      "Enter number\n",
      "3.0\n",
      "Enter number\n",
      "3.0\n",
      "Enter operator\n",
      "*\n",
      "Result is 9.0\n"
     ]
    }
   ],
   "source": [
    "print('Enter number')\n",
    "var1 = float(input())\n",
    "print(var1)\n",
    "print('Enter number')\n",
    "var2 = float(input())\n",
    "print(var2)\n",
    "print('Enter operator')\n",
    "op = input()\n",
    "print(op)\n",
    "if op == '+':\n",
    "    result = var1 + var2\n",
    "    print('Result is ' + str(result))\n",
    "elif op == '-':\n",
    "    result = var1 - var2\n",
    "    print('Result is ' + str(result))\n",
    "elif op == '*':\n",
    "    result = var1 * var2\n",
    "    print('Result is ' + str(result))\n",
    "elif op == '/':\n",
    "    result = var1 / var2\n",
    "    print('Result is ' + str(result))\n",
    "else:\n",
    "    print('Error')\n",
    "\n"
   ]
  },
  {
   "cell_type": "markdown",
   "metadata": {},
   "source": [
    "Calculator via FUNCTION v.1.0"
   ]
  },
  {
   "cell_type": "code",
   "execution_count": 4,
   "metadata": {},
   "outputs": [
    {
     "name": "stdout",
     "output_type": "stream",
     "text": [
      "Enter number\n",
      "9.0\n",
      "Enter number\n",
      "6.0\n",
      "Enter operator\n",
      "/\n"
     ]
    },
    {
     "data": {
      "text/plain": [
       "1.5"
      ]
     },
     "execution_count": 4,
     "metadata": {},
     "output_type": "execute_result"
    }
   ],
   "source": [
    "print('Enter number')\n",
    "var1 = float(input())\n",
    "print(var1)\n",
    "print('Enter number')\n",
    "var2 = float(input())\n",
    "print(var2)\n",
    "print('Enter operator')\n",
    "op = input()\n",
    "print(op)\n",
    "def calculator(var1, var2, op):\n",
    "    if op == \"+\" :\n",
    "        return var1 + var2\n",
    "    elif op == \"-\" :\n",
    "        return var1 - var2\n",
    "    elif op == \"*\" :\n",
    "        return var1 * var2\n",
    "    elif op == \"/\" :\n",
    "        return var1 / var2\n",
    "    else:\n",
    "        print('Error')\n",
    "      \n",
    "calculator(var1, var2, op)\n"
   ]
  },
  {
   "cell_type": "markdown",
   "metadata": {},
   "source": [
    "My vrsion of ZeroDivizion check"
   ]
  },
  {
   "cell_type": "code",
   "execution_count": 32,
   "metadata": {},
   "outputs": [
    {
     "name": "stdout",
     "output_type": "stream",
     "text": [
      "Enter number\n",
      "6.0\n",
      "Enter number\n",
      "9.0\n",
      "Enter operator\n",
      "+\n"
     ]
    },
    {
     "data": {
      "text/plain": [
       "False"
      ]
     },
     "execution_count": 32,
     "metadata": {},
     "output_type": "execute_result"
    }
   ],
   "source": [
    "print('Enter number')\n",
    "var1 = float(input())\n",
    "print(var1)\n",
    "print('Enter number')\n",
    "var2 = float(input())\n",
    "print(var2)\n",
    "print('Enter operator')\n",
    "op = input()\n",
    "print(op)\n",
    "def zeroDivision(var1, var2, op):\n",
    "    if op == \"/\" and var2 == 0:\n",
    "        return True\n",
    "    else:\n",
    "        return False\n",
    "        \n",
    "    \n",
    "zeroDivision(var1, var2, op)"
   ]
  },
  {
   "cell_type": "markdown",
   "metadata": {},
   "source": [
    "Calculator via FUNCTION v.2.0 (% added)"
   ]
  },
  {
   "cell_type": "code",
   "execution_count": 8,
   "metadata": {},
   "outputs": [
    {
     "name": "stdout",
     "output_type": "stream",
     "text": [
      "Enter number\n",
      "6.0\n",
      "Enter number\n",
      "3.0\n",
      "Enter operator\n",
      "-\n"
     ]
    },
    {
     "data": {
      "text/plain": [
       "3.0"
      ]
     },
     "execution_count": 8,
     "metadata": {},
     "output_type": "execute_result"
    }
   ],
   "source": [
    "print('Enter number')\n",
    "var1 = float(input())\n",
    "print(var1)\n",
    "print('Enter number')\n",
    "var2 = float(input())\n",
    "print(var2)\n",
    "print('Enter operator')\n",
    "op = input()\n",
    "print(op)\n",
    "def calculator2(var1, var2, op):\n",
    "    if op == \"+\" :\n",
    "        return var1 + var2\n",
    "    elif op == \"-\" :\n",
    "        return var1 - var2\n",
    "    elif op == \"*\" :\n",
    "        return var1 * var2\n",
    "    elif op == \"/\" :\n",
    "        return var1 / var2\n",
    "    elif op == \"%\":\n",
    "        return var1 % var2\n",
    "    else:\n",
    "        print('Error')\n",
    "      \n",
    "calculator2(var1, var2, op)"
   ]
  },
  {
   "cell_type": "markdown",
   "metadata": {},
   "source": [
    "Calculator via FUNCTION v.23.0 (rounding added)"
   ]
  },
  {
   "cell_type": "code",
   "execution_count": 2,
   "metadata": {},
   "outputs": [
    {
     "name": "stdout",
     "output_type": "stream",
     "text": [
      "Enter number\n",
      "8.0\n",
      "Enter number\n",
      "3.0\n",
      "Enter operator\n",
      "/\n",
      "Result was rounded to 3 decimal points\n",
      "2.667\n"
     ]
    }
   ],
   "source": [
    "print('Enter number')\n",
    "var1 = float(input())\n",
    "print(var1)\n",
    "print('Enter number')\n",
    "var2 = float(input())\n",
    "print(var2)\n",
    "print('Enter operator')\n",
    "op = input()\n",
    "print(op)\n",
    "def calculator2(var1, var2, op):\n",
    "    if op == \"+\" :\n",
    "        return var1 + var2\n",
    "    elif op == \"-\" :\n",
    "        return var1 - var2\n",
    "    elif op == \"*\" :\n",
    "        return var1 * var2\n",
    "    elif op == \"/\" :\n",
    "        return var1 / var2\n",
    "    elif op == \"%\":\n",
    "        return var1 % var2\n",
    "    else:\n",
    "        print('Error')\n",
    "      \n",
    "calculator2(var1, var2, op)\n",
    "\n",
    "roundResult = str(calculator2(var1, var2, op))[::-1].find('.')\n",
    "\n",
    "if roundResult > 3:\n",
    "    print('Result was rounded to 3 decimal points')\n",
    "    print(round(calculator2(var1, var2, op), 3))"
   ]
  }
 ],
 "metadata": {
  "kernelspec": {
   "display_name": "Python 3.10.8 64-bit",
   "language": "python",
   "name": "python3"
  },
  "language_info": {
   "codemirror_mode": {
    "name": "ipython",
    "version": 3
   },
   "file_extension": ".py",
   "mimetype": "text/x-python",
   "name": "python",
   "nbconvert_exporter": "python",
   "pygments_lexer": "ipython3",
   "version": "3.10.8"
  },
  "orig_nbformat": 4,
  "vscode": {
   "interpreter": {
    "hash": "39b7f9ead60384a727657da2a0e5c16397da03ee60763edb7307205fe0983a98"
   }
  }
 },
 "nbformat": 4,
 "nbformat_minor": 2
}
