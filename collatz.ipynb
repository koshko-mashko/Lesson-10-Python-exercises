{
 "cells": [
  {
   "cell_type": "code",
   "execution_count": 5,
   "metadata": {},
   "outputs": [
    {
     "name": "stdout",
     "output_type": "stream",
     "text": [
      "Enter number\n",
      "3\n",
      "10\n",
      "5\n",
      "16\n",
      "8\n",
      "4\n",
      "2\n",
      "1\n"
     ]
    }
   ],
   "source": [
    "print('Enter number') #ask for the number\n",
    "number = int(input())\n",
    "\n",
    "def collatz(number): #define collatz function\n",
    "    remainder =  number % 2\n",
    "    if remainder == 0:\n",
    "        return number // 2\n",
    "    else:\n",
    "        return 3 * number + 1\n",
    "        \n",
    "        \n",
    "while collatz(number) != 1:\n",
    "    print(number)\n",
    "    number = collatz(number)\n",
    "    collatz(number)\n",
    "if collatz(number) == 1:\n",
    "    print('2')\n",
    "    print ('1')"
   ]
  }
 ],
 "metadata": {
  "kernelspec": {
   "display_name": "Python 3.10.8 64-bit",
   "language": "python",
   "name": "python3"
  },
  "language_info": {
   "codemirror_mode": {
    "name": "ipython",
    "version": 3
   },
   "file_extension": ".py",
   "mimetype": "text/x-python",
   "name": "python",
   "nbconvert_exporter": "python",
   "pygments_lexer": "ipython3",
   "version": "3.10.8"
  },
  "orig_nbformat": 4,
  "vscode": {
   "interpreter": {
    "hash": "39b7f9ead60384a727657da2a0e5c16397da03ee60763edb7307205fe0983a98"
   }
  }
 },
 "nbformat": 4,
 "nbformat_minor": 2
}
